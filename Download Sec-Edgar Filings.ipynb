{
 "cells": [
  {
   "cell_type": "markdown",
   "id": "f0cf3c62",
   "metadata": {},
   "source": [
    "#### Downloading the files using edgar package available in python based on CIK and Company Name."
   ]
  },
  {
   "cell_type": "code",
   "execution_count": null,
   "id": "647bca98",
   "metadata": {},
   "outputs": [],
   "source": [
    "pip install edgar"
   ]
  },
  {
   "cell_type": "code",
   "execution_count": null,
   "id": "a64e71df",
   "metadata": {},
   "outputs": [],
   "source": [
    "from edgar import Company, TXTML\n",
    "\n",
    "company = Company(\"INTERNATIONAL BUSINESS MACHINES CORP\", \"0000051143\")\n",
    "company = Company(\"Mastercard Inc\", \"1141391\")\n",
    "fillings = company.get_all_filings(filing_type = \"10-K\")\n",
    "\n",
    "# Here maximum number of documents that can be downloaded are 29.(1995-2023)\n",
    "docs = Company.get_documents(fillings, no_of_documents=29)\n"
   ]
  },
  {
   "cell_type": "code",
   "execution_count": null,
   "id": "cb1ab3c8",
   "metadata": {},
   "outputs": [],
   "source": [
    "for i, doc in enumerate(docs, 1):\n",
    "    if doc:\n",
    "        try:\n",
    "            # Parse the document\n",
    "            text = TXTML.parse_full_10K(doc)\n",
    "\n",
    "            # Save the parsed text to a file\n",
    "            with open(\"ms\" + str(i), \"w\", encoding=\"utf-8\") as file:\n",
    "                file.write(text)\n",
    "\n",
    "            print(f\"Data for document {i} saved.\")\n",
    "        except Exception as e:\n",
    "            print(f\"Error parsing document {i}: {e}\")\n",
    "    else:\n",
    "        print(f\"No document found for index {i}.\")\n",
    "\n",
    "print(f\"All data saved to {file_path}\")"
   ]
  }
 ],
 "metadata": {
  "kernelspec": {
   "display_name": "Python 3 (ipykernel)",
   "language": "python",
   "name": "python3"
  },
  "language_info": {
   "codemirror_mode": {
    "name": "ipython",
    "version": 3
   },
   "file_extension": ".py",
   "mimetype": "text/x-python",
   "name": "python",
   "nbconvert_exporter": "python",
   "pygments_lexer": "ipython3",
   "version": "3.9.12"
  }
 },
 "nbformat": 4,
 "nbformat_minor": 5
}
